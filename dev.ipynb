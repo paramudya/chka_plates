{
 "cells": [
  {
   "cell_type": "code",
   "execution_count": 1,
   "metadata": {},
   "outputs": [],
   "source": [
    "from utils.prep import split_sect\n",
    "from utils.sub import submit\n",
    "from utils.date import count_days\n",
    "from approachs.naive import EachSection\n",
    "from eval import smape\n",
    "\n",
    "from sklearn.model_selection import train_test_split\n",
    "from datetime import datetime\n",
    "import pandas as pd\n",
    "import numpy as np\n",
    "from sklearn.preprocessing import OneHotEncoder\n"
   ]
  },
  {
   "cell_type": "markdown",
   "metadata": {},
   "source": [
    "# prep"
   ]
  },
  {
   "cell_type": "code",
   "execution_count": 2,
   "metadata": {},
   "outputs": [],
   "source": [
    "# load\n",
    "tr_raw, te = pd.read_csv('data/train.csv'), pd.read_csv('data/test.csv')\n",
    "target = 'price'\n"
   ]
  },
  {
   "cell_type": "code",
   "execution_count": 3,
   "metadata": {},
   "outputs": [
    {
     "name": "stderr",
     "output_type": "stream",
     "text": [
      "C:\\Users\\61668\\AppData\\Local\\Temp\\ipykernel_26328\\2491354299.py:12: FutureWarning: errors='ignore' is deprecated and will raise in a future version. Use to_numeric without passing `errors` and catch exceptions explicitly instead\n",
      "  tr_raw[object_columns1] = tr_raw[object_columns1].apply(pd.to_numeric, errors='ignore') #better than astype as it decides whether int or float on its own\n",
      "C:\\Users\\61668\\AppData\\Local\\Temp\\ipykernel_26328\\2491354299.py:13: FutureWarning: errors='ignore' is deprecated and will raise in a future version. Use to_numeric without passing `errors` and catch exceptions explicitly instead\n",
      "  te[object_columns1] = te[object_columns1].apply(pd.to_numeric, errors='ignore') #better than astype as it decides whether int or float on its own\n"
     ]
    }
   ],
   "source": [
    "# prep before train-test split\n",
    "## split sect\n",
    "tr_raw[['section 1', 'section 2', 'section 3', 'section 4']] = tr_raw.plate.apply(split_sect).apply(pd.Series)\n",
    "te[['section 1', 'section 2', 'section 3', 'section 4']] = te.plate.apply(split_sect).apply(pd.Series)\n",
    "\n",
    "## date\n",
    "tr_raw['days_old'] = count_days(tr_raw.date)\n",
    "te['days_old'] = count_days(te.date)\n",
    "\n",
    "#convert numeric strings\n",
    "object_columns1 = tr_raw.select_dtypes(include=['object']).columns.tolist()\n",
    "tr_raw[object_columns1] = tr_raw[object_columns1].apply(pd.to_numeric, errors='ignore') #better than astype as it decides whether int or float on its own\n",
    "te[object_columns1] = te[object_columns1].apply(pd.to_numeric, errors='ignore') #better than astype as it decides whether int or float on its own\n"
   ]
  },
  {
   "cell_type": "code",
   "execution_count": 4,
   "metadata": {},
   "outputs": [
    {
     "name": "stdout",
     "output_type": "stream",
     "text": [
      "12 999 144 145\n"
     ]
    },
    {
     "data": {
      "text/html": [
       "<div>\n",
       "<style scoped>\n",
       "    .dataframe tbody tr th:only-of-type {\n",
       "        vertical-align: middle;\n",
       "    }\n",
       "\n",
       "    .dataframe tbody tr th {\n",
       "        vertical-align: top;\n",
       "    }\n",
       "\n",
       "    .dataframe thead th {\n",
       "        text-align: right;\n",
       "    }\n",
       "</style>\n",
       "<table border=\"1\" class=\"dataframe\">\n",
       "  <thead>\n",
       "    <tr style=\"text-align: right;\">\n",
       "      <th></th>\n",
       "      <th>section 2</th>\n",
       "      <th>section 4</th>\n",
       "      <th>days_old</th>\n",
       "      <th>price</th>\n",
       "    </tr>\n",
       "  </thead>\n",
       "  <tbody>\n",
       "    <tr>\n",
       "      <th>section 2</th>\n",
       "      <td>1.000000</td>\n",
       "      <td>0.004341</td>\n",
       "      <td>-0.031774</td>\n",
       "      <td>0.025174</td>\n",
       "    </tr>\n",
       "    <tr>\n",
       "      <th>section 4</th>\n",
       "      <td>0.004341</td>\n",
       "      <td>1.000000</td>\n",
       "      <td>0.182044</td>\n",
       "      <td>-0.115608</td>\n",
       "    </tr>\n",
       "    <tr>\n",
       "      <th>days_old</th>\n",
       "      <td>-0.031774</td>\n",
       "      <td>0.182044</td>\n",
       "      <td>1.000000</td>\n",
       "      <td>0.047701</td>\n",
       "    </tr>\n",
       "    <tr>\n",
       "      <th>price</th>\n",
       "      <td>0.025174</td>\n",
       "      <td>-0.115608</td>\n",
       "      <td>0.047701</td>\n",
       "      <td>1.000000</td>\n",
       "    </tr>\n",
       "  </tbody>\n",
       "</table>\n",
       "</div>"
      ],
      "text/plain": [
       "           section 2  section 4  days_old     price\n",
       "section 2   1.000000   0.004341 -0.031774  0.025174\n",
       "section 4   0.004341   1.000000  0.182044 -0.115608\n",
       "days_old   -0.031774   0.182044  1.000000  0.047701\n",
       "price       0.025174  -0.115608  0.047701  1.000000"
      ]
     },
     "execution_count": 4,
     "metadata": {},
     "output_type": "execute_result"
    }
   ],
   "source": [
    "# eda\n",
    "print(tr_raw['section 1'].nunique(),tr_raw['section 2'].nunique(),tr_raw['section 3'].nunique(),tr_raw['section 4'].nunique())\n",
    "\n",
    "tr_raw[['section 2', 'section 4', 'days_old', 'price']].corr()"
   ]
  },
  {
   "cell_type": "code",
   "execution_count": 5,
   "metadata": {},
   "outputs": [
    {
     "name": "stdout",
     "output_type": "stream",
     "text": [
      "43889 7746 7695\n"
     ]
    }
   ],
   "source": [
    "# train test split\n",
    "X_tr,  X_val, y_tr, y_val = train_test_split(tr_raw[[el for el in tr_raw.columns if el != target]], tr_raw[target], test_size=0.15, random_state=133)\n",
    "print(len(X_tr),len(X_val),len(te))"
   ]
  },
  {
   "cell_type": "code",
   "execution_count": 6,
   "metadata": {},
   "outputs": [],
   "source": [
    "# prep after train-test split (dont want no leakage brooo)\n",
    "## normalize (if non tree-based)\n",
    "## nan impute\n",
    "## etc\n"
   ]
  },
  {
   "cell_type": "markdown",
   "metadata": {},
   "source": [
    "# model "
   ]
  },
  {
   "cell_type": "markdown",
   "metadata": {},
   "source": [
    "## naive"
   ]
  },
  {
   "cell_type": "code",
   "execution_count": null,
   "metadata": {},
   "outputs": [],
   "source": []
  },
  {
   "cell_type": "code",
   "execution_count": 7,
   "metadata": {},
   "outputs": [],
   "source": [
    "# section_method = EachSection()\n",
    "# section_method.fit(X_tr, y_tr)\n",
    "# te3=section_method.transform(te, ['section 2', 'section 4'])\n",
    "\n",
    "# print(te3[['id','price']])"
   ]
  },
  {
   "cell_type": "code",
   "execution_count": 8,
   "metadata": {},
   "outputs": [
    {
     "name": "stdout",
     "output_type": "stream",
     "text": [
      "<class 'pandas.core.series.Series'> [332068.00350404 334202.85041762 335656.05162524 370623.59510302\n",
      " 425489.24850895 427400.24617956 434855.43606557 435567.47391607\n",
      " 454210.78223871 482692.67649537 530815.15738449 725602.96956443]\n"
     ]
    },
    {
     "ename": "TypeError",
     "evalue": "'numpy.ndarray' object is not callable",
     "output_type": "error",
     "traceback": [
      "\u001b[1;31m---------------------------------------------------------------------------\u001b[0m",
      "\u001b[1;31mTypeError\u001b[0m                                 Traceback (most recent call last)",
      "Cell \u001b[1;32mIn[8], line 5\u001b[0m\n\u001b[0;32m      3\u001b[0m section_method \u001b[38;5;241m=\u001b[39m EachSection()\n\u001b[0;32m      4\u001b[0m section_method\u001b[38;5;241m.\u001b[39mfit(pd\u001b[38;5;241m.\u001b[39mconcat([X_tr, X_val], axis\u001b[38;5;241m=\u001b[39m\u001b[38;5;241m0\u001b[39m), pd\u001b[38;5;241m.\u001b[39mconcat([y_tr, y_val], axis\u001b[38;5;241m=\u001b[39m\u001b[38;5;241m0\u001b[39m))\n\u001b[1;32m----> 5\u001b[0m temost\u001b[38;5;241m=\u001b[39m\u001b[43msection_method\u001b[49m\u001b[38;5;241;43m.\u001b[39;49m\u001b[43mtransform\u001b[49m\u001b[43m(\u001b[49m\u001b[43mte\u001b[49m\u001b[43m,\u001b[49m\u001b[43mmethod\u001b[49m\u001b[38;5;241;43m=\u001b[39;49m\u001b[38;5;124;43m'\u001b[39;49m\u001b[38;5;124;43mmost differing\u001b[39;49m\u001b[38;5;124;43m'\u001b[39;49m\u001b[43m)\u001b[49m\n\u001b[0;32m      7\u001b[0m \u001b[38;5;28mprint\u001b[39m(temost[[\u001b[38;5;124m'\u001b[39m\u001b[38;5;124mid\u001b[39m\u001b[38;5;124m'\u001b[39m,\u001b[38;5;124m'\u001b[39m\u001b[38;5;124mprice\u001b[39m\u001b[38;5;124m'\u001b[39m]])\n",
      "File \u001b[1;32md:\\car-plates\\approachs\\naive.py:90\u001b[0m, in \u001b[0;36mEachSection.transform\u001b[1;34m(self, X, sections, method)\u001b[0m\n\u001b[0;32m     88\u001b[0m temp\u001b[38;5;241m=\u001b[39m[]\n\u001b[0;32m     89\u001b[0m \u001b[38;5;28mprint\u001b[39m(\u001b[38;5;28mtype\u001b[39m(\u001b[38;5;28mself\u001b[39m\u001b[38;5;241m.\u001b[39mmappings[\u001b[38;5;124m'\u001b[39m\u001b[38;5;124msection 1\u001b[39m\u001b[38;5;124m'\u001b[39m]),\u001b[38;5;28mself\u001b[39m\u001b[38;5;241m.\u001b[39mmappings[\u001b[38;5;124m'\u001b[39m\u001b[38;5;124msection 1\u001b[39m\u001b[38;5;124m'\u001b[39m]\u001b[38;5;241m.\u001b[39mvalues)\n\u001b[1;32m---> 90\u001b[0m mean \u001b[38;5;241m=\u001b[39m np\u001b[38;5;241m.\u001b[39marray([price \u001b[38;5;28;01mfor\u001b[39;00m map_section_dct \u001b[38;5;129;01min\u001b[39;00m \u001b[38;5;28mself\u001b[39m\u001b[38;5;241m.\u001b[39mmappings\u001b[38;5;241m.\u001b[39mvalues() \u001b[38;5;28;01mfor\u001b[39;00m price \u001b[38;5;129;01min\u001b[39;00m map_section_dct\u001b[38;5;241m.\u001b[39mvalues()])\u001b[38;5;241m.\u001b[39mmean()\n\u001b[0;32m     91\u001b[0m \u001b[38;5;28;01mfor\u001b[39;00m _,row \u001b[38;5;129;01min\u001b[39;00m p\u001b[38;5;241m.\u001b[39miterrows():\n\u001b[0;32m     92\u001b[0m     most_differing\u001b[38;5;241m=\u001b[39mmean\n",
      "File \u001b[1;32md:\\car-plates\\approachs\\naive.py:90\u001b[0m, in \u001b[0;36m<listcomp>\u001b[1;34m(.0)\u001b[0m\n\u001b[0;32m     88\u001b[0m temp\u001b[38;5;241m=\u001b[39m[]\n\u001b[0;32m     89\u001b[0m \u001b[38;5;28mprint\u001b[39m(\u001b[38;5;28mtype\u001b[39m(\u001b[38;5;28mself\u001b[39m\u001b[38;5;241m.\u001b[39mmappings[\u001b[38;5;124m'\u001b[39m\u001b[38;5;124msection 1\u001b[39m\u001b[38;5;124m'\u001b[39m]),\u001b[38;5;28mself\u001b[39m\u001b[38;5;241m.\u001b[39mmappings[\u001b[38;5;124m'\u001b[39m\u001b[38;5;124msection 1\u001b[39m\u001b[38;5;124m'\u001b[39m]\u001b[38;5;241m.\u001b[39mvalues)\n\u001b[1;32m---> 90\u001b[0m mean \u001b[38;5;241m=\u001b[39m np\u001b[38;5;241m.\u001b[39marray([price \u001b[38;5;28;01mfor\u001b[39;00m map_section_dct \u001b[38;5;129;01min\u001b[39;00m \u001b[38;5;28mself\u001b[39m\u001b[38;5;241m.\u001b[39mmappings\u001b[38;5;241m.\u001b[39mvalues() \u001b[38;5;28;01mfor\u001b[39;00m price \u001b[38;5;129;01min\u001b[39;00m \u001b[43mmap_section_dct\u001b[49m\u001b[38;5;241;43m.\u001b[39;49m\u001b[43mvalues\u001b[49m\u001b[43m(\u001b[49m\u001b[43m)\u001b[49m])\u001b[38;5;241m.\u001b[39mmean()\n\u001b[0;32m     91\u001b[0m \u001b[38;5;28;01mfor\u001b[39;00m _,row \u001b[38;5;129;01min\u001b[39;00m p\u001b[38;5;241m.\u001b[39miterrows():\n\u001b[0;32m     92\u001b[0m     most_differing\u001b[38;5;241m=\u001b[39mmean\n",
      "\u001b[1;31mTypeError\u001b[0m: 'numpy.ndarray' object is not callable"
     ]
    }
   ],
   "source": [
    "## naive\n",
    "### based on section. mean section\n",
    "section_method = EachSection()\n",
    "section_method.fit(pd.concat([X_tr, X_val], axis=0), pd.concat([y_tr, y_val], axis=0))\n",
    "temost=section_method.transform(te,method='most differing')\n",
    "\n",
    "print(temost[['id','price']])"
   ]
  },
  {
   "cell_type": "code",
   "execution_count": null,
   "metadata": {},
   "outputs": [],
   "source": []
  },
  {
   "cell_type": "code",
   "execution_count": null,
   "metadata": {},
   "outputs": [],
   "source": []
  },
  {
   "cell_type": "code",
   "execution_count": null,
   "metadata": {},
   "outputs": [],
   "source": [
    "te4=te.copy()\n"
   ]
  },
  {
   "cell_type": "code",
   "execution_count": 16,
   "metadata": {},
   "outputs": [
    {
     "name": "stdout",
     "output_type": "stream",
     "text": [
      "test data valid and saved as just_mean.csv\n"
     ]
    }
   ],
   "source": [
    "submit(te4, f'just_mean')\n"
   ]
  },
  {
   "cell_type": "code",
   "execution_count": null,
   "metadata": {},
   "outputs": [],
   "source": []
  },
  {
   "cell_type": "code",
   "execution_count": null,
   "metadata": {},
   "outputs": [],
   "source": [
    "tr['section 1'].astype(float)"
   ]
  },
  {
   "cell_type": "code",
   "execution_count": 15,
   "metadata": {},
   "outputs": [],
   "source": [
    "def one_hot(tr_ml1, fit_or_transform, object_columns2='all'):\n",
    "    # one hot\n",
    "    if object_columns2 == 'all':\n",
    "        object_columns2 = tr_ml1.select_dtypes(include=['object']).columns.tolist()\n",
    "    else:\n",
    "        pass\n",
    "    encoder = OneHotEncoder(sparse_output=False)\n",
    "    if fit_or_transform == 'fit_transform':\n",
    "        encoded = encoder.fit_transform(tr_ml1[object_columns2])\n",
    "    elif fit_or_transform == 'transform':\n",
    "        pass # for nowwww\n",
    "\n",
    "    ## feature names for the encoded columns\n",
    "    feature_names = []\n",
    "    for i, col in enumerate(object_columns2):\n",
    "        for category in encoder.categories_[i]:\n",
    "            feature_names.append(f\"{col}_{category}\")\n",
    "\n",
    "    ## DataFrame with encoded values\n",
    "    encoded_df = pd.DataFrame(\n",
    "        encoded,\n",
    "        columns=feature_names,\n",
    "        index=tr_ml1.index\n",
    "    )\n",
    "    return encoded_df"
   ]
  },
  {
   "cell_type": "code",
   "execution_count": 14,
   "metadata": {},
   "outputs": [
    {
     "data": {
      "text/html": [
       "<div>\n",
       "<style scoped>\n",
       "    .dataframe tbody tr th:only-of-type {\n",
       "        vertical-align: middle;\n",
       "    }\n",
       "\n",
       "    .dataframe tbody tr th {\n",
       "        vertical-align: top;\n",
       "    }\n",
       "\n",
       "    .dataframe thead th {\n",
       "        text-align: right;\n",
       "    }\n",
       "</style>\n",
       "<table border=\"1\" class=\"dataframe\">\n",
       "  <thead>\n",
       "    <tr style=\"text-align: right;\">\n",
       "      <th></th>\n",
       "      <th>section 1_A</th>\n",
       "      <th>section 1_B</th>\n",
       "      <th>section 1_C</th>\n",
       "      <th>section 1_E</th>\n",
       "      <th>section 1_H</th>\n",
       "      <th>section 1_K</th>\n",
       "      <th>section 1_M</th>\n",
       "      <th>section 1_O</th>\n",
       "      <th>section 1_P</th>\n",
       "      <th>section 1_T</th>\n",
       "      <th>...</th>\n",
       "      <th>section 3_YC</th>\n",
       "      <th>section 3_YE</th>\n",
       "      <th>section 3_YH</th>\n",
       "      <th>section 3_YK</th>\n",
       "      <th>section 3_YM</th>\n",
       "      <th>section 3_YO</th>\n",
       "      <th>section 3_YP</th>\n",
       "      <th>section 3_YT</th>\n",
       "      <th>section 3_YX</th>\n",
       "      <th>section 3_YY</th>\n",
       "    </tr>\n",
       "  </thead>\n",
       "  <tbody>\n",
       "    <tr>\n",
       "      <th>0</th>\n",
       "      <td>0.0</td>\n",
       "      <td>0.0</td>\n",
       "      <td>0.0</td>\n",
       "      <td>0.0</td>\n",
       "      <td>0.0</td>\n",
       "      <td>0.0</td>\n",
       "      <td>0.0</td>\n",
       "      <td>0.0</td>\n",
       "      <td>0.0</td>\n",
       "      <td>0.0</td>\n",
       "      <td>...</td>\n",
       "      <td>0.0</td>\n",
       "      <td>0.0</td>\n",
       "      <td>0.0</td>\n",
       "      <td>0.0</td>\n",
       "      <td>0.0</td>\n",
       "      <td>0.0</td>\n",
       "      <td>0.0</td>\n",
       "      <td>0.0</td>\n",
       "      <td>0.0</td>\n",
       "      <td>0.0</td>\n",
       "    </tr>\n",
       "    <tr>\n",
       "      <th>1</th>\n",
       "      <td>0.0</td>\n",
       "      <td>0.0</td>\n",
       "      <td>0.0</td>\n",
       "      <td>0.0</td>\n",
       "      <td>0.0</td>\n",
       "      <td>0.0</td>\n",
       "      <td>0.0</td>\n",
       "      <td>0.0</td>\n",
       "      <td>0.0</td>\n",
       "      <td>0.0</td>\n",
       "      <td>...</td>\n",
       "      <td>0.0</td>\n",
       "      <td>0.0</td>\n",
       "      <td>0.0</td>\n",
       "      <td>0.0</td>\n",
       "      <td>0.0</td>\n",
       "      <td>0.0</td>\n",
       "      <td>0.0</td>\n",
       "      <td>0.0</td>\n",
       "      <td>0.0</td>\n",
       "      <td>0.0</td>\n",
       "    </tr>\n",
       "    <tr>\n",
       "      <th>2</th>\n",
       "      <td>1.0</td>\n",
       "      <td>0.0</td>\n",
       "      <td>0.0</td>\n",
       "      <td>0.0</td>\n",
       "      <td>0.0</td>\n",
       "      <td>0.0</td>\n",
       "      <td>0.0</td>\n",
       "      <td>0.0</td>\n",
       "      <td>0.0</td>\n",
       "      <td>0.0</td>\n",
       "      <td>...</td>\n",
       "      <td>0.0</td>\n",
       "      <td>0.0</td>\n",
       "      <td>0.0</td>\n",
       "      <td>0.0</td>\n",
       "      <td>0.0</td>\n",
       "      <td>0.0</td>\n",
       "      <td>0.0</td>\n",
       "      <td>0.0</td>\n",
       "      <td>0.0</td>\n",
       "      <td>0.0</td>\n",
       "    </tr>\n",
       "    <tr>\n",
       "      <th>3</th>\n",
       "      <td>0.0</td>\n",
       "      <td>0.0</td>\n",
       "      <td>0.0</td>\n",
       "      <td>0.0</td>\n",
       "      <td>0.0</td>\n",
       "      <td>0.0</td>\n",
       "      <td>0.0</td>\n",
       "      <td>0.0</td>\n",
       "      <td>1.0</td>\n",
       "      <td>0.0</td>\n",
       "      <td>...</td>\n",
       "      <td>0.0</td>\n",
       "      <td>0.0</td>\n",
       "      <td>0.0</td>\n",
       "      <td>0.0</td>\n",
       "      <td>0.0</td>\n",
       "      <td>0.0</td>\n",
       "      <td>0.0</td>\n",
       "      <td>0.0</td>\n",
       "      <td>0.0</td>\n",
       "      <td>0.0</td>\n",
       "    </tr>\n",
       "    <tr>\n",
       "      <th>4</th>\n",
       "      <td>0.0</td>\n",
       "      <td>0.0</td>\n",
       "      <td>0.0</td>\n",
       "      <td>0.0</td>\n",
       "      <td>0.0</td>\n",
       "      <td>0.0</td>\n",
       "      <td>0.0</td>\n",
       "      <td>0.0</td>\n",
       "      <td>1.0</td>\n",
       "      <td>0.0</td>\n",
       "      <td>...</td>\n",
       "      <td>0.0</td>\n",
       "      <td>0.0</td>\n",
       "      <td>0.0</td>\n",
       "      <td>0.0</td>\n",
       "      <td>0.0</td>\n",
       "      <td>0.0</td>\n",
       "      <td>0.0</td>\n",
       "      <td>0.0</td>\n",
       "      <td>0.0</td>\n",
       "      <td>0.0</td>\n",
       "    </tr>\n",
       "    <tr>\n",
       "      <th>...</th>\n",
       "      <td>...</td>\n",
       "      <td>...</td>\n",
       "      <td>...</td>\n",
       "      <td>...</td>\n",
       "      <td>...</td>\n",
       "      <td>...</td>\n",
       "      <td>...</td>\n",
       "      <td>...</td>\n",
       "      <td>...</td>\n",
       "      <td>...</td>\n",
       "      <td>...</td>\n",
       "      <td>...</td>\n",
       "      <td>...</td>\n",
       "      <td>...</td>\n",
       "      <td>...</td>\n",
       "      <td>...</td>\n",
       "      <td>...</td>\n",
       "      <td>...</td>\n",
       "      <td>...</td>\n",
       "      <td>...</td>\n",
       "      <td>...</td>\n",
       "    </tr>\n",
       "    <tr>\n",
       "      <th>51630</th>\n",
       "      <td>0.0</td>\n",
       "      <td>0.0</td>\n",
       "      <td>0.0</td>\n",
       "      <td>0.0</td>\n",
       "      <td>0.0</td>\n",
       "      <td>0.0</td>\n",
       "      <td>0.0</td>\n",
       "      <td>0.0</td>\n",
       "      <td>0.0</td>\n",
       "      <td>0.0</td>\n",
       "      <td>...</td>\n",
       "      <td>0.0</td>\n",
       "      <td>0.0</td>\n",
       "      <td>0.0</td>\n",
       "      <td>0.0</td>\n",
       "      <td>0.0</td>\n",
       "      <td>0.0</td>\n",
       "      <td>0.0</td>\n",
       "      <td>0.0</td>\n",
       "      <td>0.0</td>\n",
       "      <td>0.0</td>\n",
       "    </tr>\n",
       "    <tr>\n",
       "      <th>51631</th>\n",
       "      <td>0.0</td>\n",
       "      <td>0.0</td>\n",
       "      <td>0.0</td>\n",
       "      <td>0.0</td>\n",
       "      <td>0.0</td>\n",
       "      <td>0.0</td>\n",
       "      <td>1.0</td>\n",
       "      <td>0.0</td>\n",
       "      <td>0.0</td>\n",
       "      <td>0.0</td>\n",
       "      <td>...</td>\n",
       "      <td>0.0</td>\n",
       "      <td>0.0</td>\n",
       "      <td>0.0</td>\n",
       "      <td>0.0</td>\n",
       "      <td>0.0</td>\n",
       "      <td>0.0</td>\n",
       "      <td>0.0</td>\n",
       "      <td>0.0</td>\n",
       "      <td>0.0</td>\n",
       "      <td>0.0</td>\n",
       "    </tr>\n",
       "    <tr>\n",
       "      <th>51632</th>\n",
       "      <td>0.0</td>\n",
       "      <td>0.0</td>\n",
       "      <td>0.0</td>\n",
       "      <td>1.0</td>\n",
       "      <td>0.0</td>\n",
       "      <td>0.0</td>\n",
       "      <td>0.0</td>\n",
       "      <td>0.0</td>\n",
       "      <td>0.0</td>\n",
       "      <td>0.0</td>\n",
       "      <td>...</td>\n",
       "      <td>0.0</td>\n",
       "      <td>0.0</td>\n",
       "      <td>0.0</td>\n",
       "      <td>0.0</td>\n",
       "      <td>0.0</td>\n",
       "      <td>0.0</td>\n",
       "      <td>0.0</td>\n",
       "      <td>0.0</td>\n",
       "      <td>0.0</td>\n",
       "      <td>0.0</td>\n",
       "    </tr>\n",
       "    <tr>\n",
       "      <th>51633</th>\n",
       "      <td>0.0</td>\n",
       "      <td>0.0</td>\n",
       "      <td>0.0</td>\n",
       "      <td>0.0</td>\n",
       "      <td>0.0</td>\n",
       "      <td>0.0</td>\n",
       "      <td>0.0</td>\n",
       "      <td>0.0</td>\n",
       "      <td>0.0</td>\n",
       "      <td>0.0</td>\n",
       "      <td>...</td>\n",
       "      <td>0.0</td>\n",
       "      <td>0.0</td>\n",
       "      <td>0.0</td>\n",
       "      <td>0.0</td>\n",
       "      <td>0.0</td>\n",
       "      <td>0.0</td>\n",
       "      <td>0.0</td>\n",
       "      <td>0.0</td>\n",
       "      <td>0.0</td>\n",
       "      <td>0.0</td>\n",
       "    </tr>\n",
       "    <tr>\n",
       "      <th>51634</th>\n",
       "      <td>0.0</td>\n",
       "      <td>0.0</td>\n",
       "      <td>0.0</td>\n",
       "      <td>0.0</td>\n",
       "      <td>0.0</td>\n",
       "      <td>1.0</td>\n",
       "      <td>0.0</td>\n",
       "      <td>0.0</td>\n",
       "      <td>0.0</td>\n",
       "      <td>0.0</td>\n",
       "      <td>...</td>\n",
       "      <td>0.0</td>\n",
       "      <td>0.0</td>\n",
       "      <td>0.0</td>\n",
       "      <td>0.0</td>\n",
       "      <td>0.0</td>\n",
       "      <td>0.0</td>\n",
       "      <td>0.0</td>\n",
       "      <td>0.0</td>\n",
       "      <td>0.0</td>\n",
       "      <td>0.0</td>\n",
       "    </tr>\n",
       "  </tbody>\n",
       "</table>\n",
       "<p>51635 rows × 156 columns</p>\n",
       "</div>"
      ],
      "text/plain": [
       "       section 1_A  section 1_B  section 1_C  section 1_E  section 1_H  \\\n",
       "0              0.0          0.0          0.0          0.0          0.0   \n",
       "1              0.0          0.0          0.0          0.0          0.0   \n",
       "2              1.0          0.0          0.0          0.0          0.0   \n",
       "3              0.0          0.0          0.0          0.0          0.0   \n",
       "4              0.0          0.0          0.0          0.0          0.0   \n",
       "...            ...          ...          ...          ...          ...   \n",
       "51630          0.0          0.0          0.0          0.0          0.0   \n",
       "51631          0.0          0.0          0.0          0.0          0.0   \n",
       "51632          0.0          0.0          0.0          1.0          0.0   \n",
       "51633          0.0          0.0          0.0          0.0          0.0   \n",
       "51634          0.0          0.0          0.0          0.0          0.0   \n",
       "\n",
       "       section 1_K  section 1_M  section 1_O  section 1_P  section 1_T  ...  \\\n",
       "0              0.0          0.0          0.0          0.0          0.0  ...   \n",
       "1              0.0          0.0          0.0          0.0          0.0  ...   \n",
       "2              0.0          0.0          0.0          0.0          0.0  ...   \n",
       "3              0.0          0.0          0.0          1.0          0.0  ...   \n",
       "4              0.0          0.0          0.0          1.0          0.0  ...   \n",
       "...            ...          ...          ...          ...          ...  ...   \n",
       "51630          0.0          0.0          0.0          0.0          0.0  ...   \n",
       "51631          0.0          1.0          0.0          0.0          0.0  ...   \n",
       "51632          0.0          0.0          0.0          0.0          0.0  ...   \n",
       "51633          0.0          0.0          0.0          0.0          0.0  ...   \n",
       "51634          1.0          0.0          0.0          0.0          0.0  ...   \n",
       "\n",
       "       section 3_YC  section 3_YE  section 3_YH  section 3_YK  section 3_YM  \\\n",
       "0               0.0           0.0           0.0           0.0           0.0   \n",
       "1               0.0           0.0           0.0           0.0           0.0   \n",
       "2               0.0           0.0           0.0           0.0           0.0   \n",
       "3               0.0           0.0           0.0           0.0           0.0   \n",
       "4               0.0           0.0           0.0           0.0           0.0   \n",
       "...             ...           ...           ...           ...           ...   \n",
       "51630           0.0           0.0           0.0           0.0           0.0   \n",
       "51631           0.0           0.0           0.0           0.0           0.0   \n",
       "51632           0.0           0.0           0.0           0.0           0.0   \n",
       "51633           0.0           0.0           0.0           0.0           0.0   \n",
       "51634           0.0           0.0           0.0           0.0           0.0   \n",
       "\n",
       "       section 3_YO  section 3_YP  section 3_YT  section 3_YX  section 3_YY  \n",
       "0               0.0           0.0           0.0           0.0           0.0  \n",
       "1               0.0           0.0           0.0           0.0           0.0  \n",
       "2               0.0           0.0           0.0           0.0           0.0  \n",
       "3               0.0           0.0           0.0           0.0           0.0  \n",
       "4               0.0           0.0           0.0           0.0           0.0  \n",
       "...             ...           ...           ...           ...           ...  \n",
       "51630           0.0           0.0           0.0           0.0           0.0  \n",
       "51631           0.0           0.0           0.0           0.0           0.0  \n",
       "51632           0.0           0.0           0.0           0.0           0.0  \n",
       "51633           0.0           0.0           0.0           0.0           0.0  \n",
       "51634           0.0           0.0           0.0           0.0           0.0  \n",
       "\n",
       "[51635 rows x 156 columns]"
      ]
     },
     "execution_count": 14,
     "metadata": {},
     "output_type": "execute_result"
    }
   ],
   "source": [
    "## ml\n",
    "### first attempt at ml\n",
    "'''\n",
    "    cols: cats (section 1 and 3) and numerical (section 2 and 4 and days old)\n",
    "    method: vanilla xgb \n",
    "    cats handling: one hot\n",
    "'''\n",
    "\n",
    "tr_ml1=tr[['section 1', 'section 2', 'section 3', 'section 4', 'days_old']]\n",
    "te_ml1=te[['section 1', 'section 2', 'section 3', 'section 4', 'days_old']]\n",
    "\n",
    "tr_ml1=one_hot(tr_ml1)\n",
    "\n",
    "## combine it back\n",
    "tr_ml1"
   ]
  },
  {
   "cell_type": "code",
   "execution_count": 10,
   "metadata": {},
   "outputs": [
    {
     "name": "stdout",
     "output_type": "stream",
     "text": [
      "<class 'pandas.core.frame.DataFrame'>\n",
      "RangeIndex: 51635 entries, 0 to 51634\n",
      "Data columns (total 5 columns):\n",
      " #   Column     Non-Null Count  Dtype \n",
      "---  ------     --------------  ----- \n",
      " 0   section 1  51635 non-null  object\n",
      " 1   section 2  51635 non-null  int64 \n",
      " 2   section 3  51635 non-null  object\n",
      " 3   section 4  51635 non-null  int64 \n",
      " 4   days_old   51635 non-null  int64 \n",
      "dtypes: int64(3), object(2)\n",
      "memory usage: 2.0+ MB\n"
     ]
    }
   ],
   "source": [
    "tr_ml1.info()"
   ]
  },
  {
   "cell_type": "code",
   "execution_count": 4,
   "metadata": {},
   "outputs": [],
   "source": [
    "tr[['section 1', 'section 2', 'section 3', 'section 4']] = tr.plate.apply(split_sect).apply(pd.Series)"
   ]
  },
  {
   "cell_type": "code",
   "execution_count": 17,
   "metadata": {},
   "outputs": [
    {
     "data": {
      "text/plain": [
       "section 2\n",
       "235    41111.111111\n",
       "894    45285.571429\n",
       "832    52000.000000\n",
       "386    53125.000000\n",
       "624    55357.142857\n",
       "329    60000.000000\n",
       "436    60000.000000\n",
       "372    62000.000000\n",
       "908    62200.000000\n",
       "741    62555.555556\n",
       "Name: price, dtype: float64"
      ]
     },
     "execution_count": 17,
     "metadata": {},
     "output_type": "execute_result"
    }
   ],
   "source": [
    "tr.groupby('section 2')['price'].mean().sort_values().head(10)\n"
   ]
  },
  {
   "cell_type": "code",
   "execution_count": 18,
   "metadata": {},
   "outputs": [
    {
     "data": {
      "text/plain": [
       "section 2\n",
       "704    1.202000e+06\n",
       "093    1.274458e+06\n",
       "895    1.287778e+06\n",
       "001    1.402181e+06\n",
       "859    1.426000e+06\n",
       "039    1.525086e+06\n",
       "614    1.555636e+06\n",
       "777    1.983003e+06\n",
       "026    2.157778e+06\n",
       "293    6.042083e+06\n",
       "Name: price, dtype: float64"
      ]
     },
     "execution_count": 18,
     "metadata": {},
     "output_type": "execute_result"
    }
   ],
   "source": [
    "tr.groupby('section 2')['price'].mean().sort_values().tail(10)\n"
   ]
  },
  {
   "cell_type": "code",
   "execution_count": 25,
   "metadata": {},
   "outputs": [
    {
     "data": {
      "text/plain": [
       "dict_values([1, 2])"
      ]
     },
     "execution_count": 25,
     "metadata": {},
     "output_type": "execute_result"
    }
   ],
   "source": [
    "dct.values()"
   ]
  },
  {
   "cell_type": "code",
   "execution_count": null,
   "metadata": {},
   "outputs": [
    {
     "data": {
      "text/plain": [
       "array([1, 2])"
      ]
     },
     "execution_count": 27,
     "metadata": {},
     "output_type": "execute_result"
    }
   ],
   "source": []
  },
  {
   "cell_type": "code",
   "execution_count": null,
   "metadata": {},
   "outputs": [
    {
     "data": {
      "text/plain": [
       "1.5"
      ]
     },
     "execution_count": 28,
     "metadata": {},
     "output_type": "execute_result"
    }
   ],
   "source": [
    "dct = {'a':1, 'b':2}\n"
   ]
  },
  {
   "cell_type": "code",
   "execution_count": 19,
   "metadata": {},
   "outputs": [
    {
     "data": {
      "text/plain": [
       "section 3\n",
       "HH    7.627346e+05\n",
       "OP    8.324309e+05\n",
       "KK    8.370885e+05\n",
       "EE    8.560062e+05\n",
       "OO    8.752755e+05\n",
       "YX    8.816390e+05\n",
       "XX    9.501432e+05\n",
       "AA    1.215905e+06\n",
       "MM    1.266321e+06\n",
       "MP    1.607407e+06\n",
       "Name: price, dtype: float64"
      ]
     },
     "execution_count": 19,
     "metadata": {},
     "output_type": "execute_result"
    }
   ],
   "source": [
    "tr.groupby('section 3')['price'].mean().sort_values().tail(10)\n"
   ]
  },
  {
   "cell_type": "code",
   "execution_count": 20,
   "metadata": {},
   "outputs": [
    {
     "data": {
      "text/plain": [
       "section 3\n",
       "TM    177045.700000\n",
       "TC    179345.501176\n",
       "TX    182469.057935\n",
       "TH    194615.745946\n",
       "CP    216270.950877\n",
       "HB    216321.962791\n",
       "TE    219245.227642\n",
       "KH    220067.114286\n",
       "CX    221857.698347\n",
       "TP    228194.697368\n",
       "Name: price, dtype: float64"
      ]
     },
     "execution_count": 20,
     "metadata": {},
     "output_type": "execute_result"
    }
   ],
   "source": [
    "tr.groupby('section 3')['price'].mean().sort_values().head(10)\n"
   ]
  },
  {
   "cell_type": "code",
   "execution_count": 10,
   "metadata": {},
   "outputs": [
    {
     "data": {
      "text/plain": [
       "section 4\n",
       "797     98940.443333\n",
       "550    105706.478398\n",
       "250    113322.192691\n",
       "977    135218.769892\n",
       "35     153382.352941\n",
       "83     155000.000000\n",
       "790    157614.550733\n",
       "126    163159.128114\n",
       "122    183935.064935\n",
       "136    189836.065574\n",
       "799    191702.606777\n",
       "763    197202.380952\n",
       "252    201032.258065\n",
       "36     201688.679245\n",
       "164    202666.666667\n",
       "156    205409.836066\n",
       "142    205604.830645\n",
       "67     205849.379747\n",
       "73     211911.764706\n",
       "79     212227.272727\n",
       "Name: price, dtype: float64"
      ]
     },
     "execution_count": 10,
     "metadata": {},
     "output_type": "execute_result"
    }
   ],
   "source": [
    "tr.groupby('section 4')['price'].mean().sort_values().head(20)\n"
   ]
  },
  {
   "cell_type": "code",
   "execution_count": 8,
   "metadata": {},
   "outputs": [
    {
     "data": {
      "text/plain": [
       "section 4\n",
       "777    7.173774e+05\n",
       "61     7.275949e+05\n",
       "87     7.277778e+05\n",
       "05     8.017782e+05\n",
       "90     8.123874e+05\n",
       "55     8.232878e+05\n",
       "97     9.977552e+05\n",
       "42     1.017817e+06\n",
       "99     1.172802e+06\n",
       "01     1.178548e+06\n",
       "77     1.345005e+06\n",
       "63     1.452456e+06\n",
       "173    1.500000e+06\n",
       "39     1.555650e+06\n",
       "66     1.842525e+06\n",
       "24     2.132473e+06\n",
       "121    2.266667e+06\n",
       "17     2.528571e+06\n",
       "08     3.076363e+06\n",
       "88     5.500050e+07\n",
       "Name: price, dtype: float64"
      ]
     },
     "execution_count": 8,
     "metadata": {},
     "output_type": "execute_result"
    }
   ],
   "source": [
    "tr.groupby('section 4')['price'].mean().sort_values().tail(20)\n"
   ]
  },
  {
   "cell_type": "code",
   "execution_count": 41,
   "metadata": {},
   "outputs": [
    {
     "name": "stderr",
     "output_type": "stream",
     "text": [
      "100%|██████████| 12/12 [00:00<00:00, 613.64it/s]\n",
      "100%|██████████| 904/904 [00:04<00:00, 181.42it/s]\n",
      "100%|██████████| 144/144 [00:01<00:00, 142.89it/s]\n",
      "100%|██████████| 140/140 [00:00<00:00, 144.74it/s]\n",
      "100%|██████████| 4/4 [00:07<00:00,  1.76s/it]"
     ]
    },
    {
     "name": "stdout",
     "output_type": "stream",
     "text": [
      "test elements not in train: []\n"
     ]
    },
    {
     "name": "stderr",
     "output_type": "stream",
     "text": [
      "\n"
     ]
    },
    {
     "data": {
      "text/plain": [
       "[]"
      ]
     },
     "execution_count": 41,
     "metadata": {},
     "output_type": "execute_result"
    }
   ],
   "source": [
    "def elements_not_in_train(train, test):\n",
    "    missing_in_train_section = {}\n",
    "\n",
    "    for i in tqdm(range(1,5)):\n",
    "        missing_elements = []\n",
    "        for item in tqdm(test[f'section {i}'].unique()):\n",
    "            if item not in list(train[f'section {i}'].unique()):\n",
    "                missing_elements.append(item)\n",
    "        missing_in_train_section[i] = missing_elements\n",
    "    \n",
    "    print('test elements not in train:', missing_elements)\n",
    "    return missing_elements\n",
    "\n",
    "elements_not_in_train(tr, te)"
   ]
  },
  {
   "cell_type": "code",
   "execution_count": 19,
   "metadata": {},
   "outputs": [
    {
     "ename": "KeyError",
     "evalue": "'section 3'",
     "output_type": "error",
     "traceback": [
      "\u001b[1;31m---------------------------------------------------------------------------\u001b[0m",
      "\u001b[1;31mKeyError\u001b[0m                                  Traceback (most recent call last)",
      "File \u001b[1;32mc:\\Users\\61668\\AppData\\Local\\Programs\\Python\\Python39\\lib\\site-packages\\pandas\\core\\indexes\\base.py:3802\u001b[0m, in \u001b[0;36mIndex.get_loc\u001b[1;34m(self, key)\u001b[0m\n\u001b[0;32m   3801\u001b[0m \u001b[38;5;28;01mtry\u001b[39;00m:\n\u001b[1;32m-> 3802\u001b[0m     \u001b[38;5;28;01mreturn\u001b[39;00m \u001b[38;5;28;43mself\u001b[39;49m\u001b[38;5;241;43m.\u001b[39;49m\u001b[43m_engine\u001b[49m\u001b[38;5;241;43m.\u001b[39;49m\u001b[43mget_loc\u001b[49m\u001b[43m(\u001b[49m\u001b[43mcasted_key\u001b[49m\u001b[43m)\u001b[49m\n\u001b[0;32m   3803\u001b[0m \u001b[38;5;28;01mexcept\u001b[39;00m \u001b[38;5;167;01mKeyError\u001b[39;00m \u001b[38;5;28;01mas\u001b[39;00m err:\n",
      "File \u001b[1;32mindex.pyx:153\u001b[0m, in \u001b[0;36mpandas._libs.index.IndexEngine.get_loc\u001b[1;34m()\u001b[0m\n",
      "File \u001b[1;32mindex.pyx:182\u001b[0m, in \u001b[0;36mpandas._libs.index.IndexEngine.get_loc\u001b[1;34m()\u001b[0m\n",
      "File \u001b[1;32mpandas\\\\_libs\\\\hashtable_class_helper.pxi:7081\u001b[0m, in \u001b[0;36mpandas._libs.hashtable.PyObjectHashTable.get_item\u001b[1;34m()\u001b[0m\n",
      "File \u001b[1;32mpandas\\\\_libs\\\\hashtable_class_helper.pxi:7089\u001b[0m, in \u001b[0;36mpandas._libs.hashtable.PyObjectHashTable.get_item\u001b[1;34m()\u001b[0m\n",
      "\u001b[1;31mKeyError\u001b[0m: 'section 3'",
      "\nThe above exception was the direct cause of the following exception:\n",
      "\u001b[1;31mKeyError\u001b[0m                                  Traceback (most recent call last)",
      "Cell \u001b[1;32mIn[19], line 1\u001b[0m\n\u001b[1;32m----> 1\u001b[0m \u001b[43mte\u001b[49m\u001b[43m[\u001b[49m\u001b[38;5;124;43m'\u001b[39;49m\u001b[38;5;124;43msection 3\u001b[39;49m\u001b[38;5;124;43m'\u001b[39;49m\u001b[43m]\u001b[49m\u001b[38;5;241m.\u001b[39mnunique()\n",
      "File \u001b[1;32mc:\\Users\\61668\\AppData\\Local\\Programs\\Python\\Python39\\lib\\site-packages\\pandas\\core\\frame.py:4090\u001b[0m, in \u001b[0;36mDataFrame.__getitem__\u001b[1;34m(self, key)\u001b[0m\n\u001b[0;32m   4088\u001b[0m \u001b[38;5;28;01mif\u001b[39;00m \u001b[38;5;28mself\u001b[39m\u001b[38;5;241m.\u001b[39mcolumns\u001b[38;5;241m.\u001b[39mnlevels \u001b[38;5;241m>\u001b[39m \u001b[38;5;241m1\u001b[39m:\n\u001b[0;32m   4089\u001b[0m     \u001b[38;5;28;01mreturn\u001b[39;00m \u001b[38;5;28mself\u001b[39m\u001b[38;5;241m.\u001b[39m_getitem_multilevel(key)\n\u001b[1;32m-> 4090\u001b[0m indexer \u001b[38;5;241m=\u001b[39m \u001b[38;5;28;43mself\u001b[39;49m\u001b[38;5;241;43m.\u001b[39;49m\u001b[43mcolumns\u001b[49m\u001b[38;5;241;43m.\u001b[39;49m\u001b[43mget_loc\u001b[49m\u001b[43m(\u001b[49m\u001b[43mkey\u001b[49m\u001b[43m)\u001b[49m\n\u001b[0;32m   4091\u001b[0m \u001b[38;5;28;01mif\u001b[39;00m is_integer(indexer):\n\u001b[0;32m   4092\u001b[0m     indexer \u001b[38;5;241m=\u001b[39m [indexer]\n",
      "File \u001b[1;32mc:\\Users\\61668\\AppData\\Local\\Programs\\Python\\Python39\\lib\\site-packages\\pandas\\core\\indexes\\base.py:3809\u001b[0m, in \u001b[0;36mIndex.get_loc\u001b[1;34m(self, key)\u001b[0m\n\u001b[0;32m   3804\u001b[0m     \u001b[38;5;28;01mif\u001b[39;00m \u001b[38;5;28misinstance\u001b[39m(casted_key, \u001b[38;5;28mslice\u001b[39m) \u001b[38;5;129;01mor\u001b[39;00m (\n\u001b[0;32m   3805\u001b[0m         \u001b[38;5;28misinstance\u001b[39m(casted_key, abc\u001b[38;5;241m.\u001b[39mIterable)\n\u001b[0;32m   3806\u001b[0m         \u001b[38;5;129;01mand\u001b[39;00m \u001b[38;5;28many\u001b[39m(\u001b[38;5;28misinstance\u001b[39m(x, \u001b[38;5;28mslice\u001b[39m) \u001b[38;5;28;01mfor\u001b[39;00m x \u001b[38;5;129;01min\u001b[39;00m casted_key)\n\u001b[0;32m   3807\u001b[0m     ):\n\u001b[0;32m   3808\u001b[0m         \u001b[38;5;28;01mraise\u001b[39;00m InvalidIndexError(key)\n\u001b[1;32m-> 3809\u001b[0m     \u001b[38;5;28;01mraise\u001b[39;00m \u001b[38;5;167;01mKeyError\u001b[39;00m(key) \u001b[38;5;28;01mfrom\u001b[39;00m \u001b[38;5;21;01merr\u001b[39;00m\n\u001b[0;32m   3810\u001b[0m \u001b[38;5;28;01mexcept\u001b[39;00m \u001b[38;5;167;01mTypeError\u001b[39;00m:\n\u001b[0;32m   3811\u001b[0m     \u001b[38;5;66;03m# If we have a listlike key, _check_indexing_error will raise\u001b[39;00m\n\u001b[0;32m   3812\u001b[0m     \u001b[38;5;66;03m#  InvalidIndexError. Otherwise we fall through and re-raise\u001b[39;00m\n\u001b[0;32m   3813\u001b[0m     \u001b[38;5;66;03m#  the TypeError.\u001b[39;00m\n\u001b[0;32m   3814\u001b[0m     \u001b[38;5;28mself\u001b[39m\u001b[38;5;241m.\u001b[39m_check_indexing_error(key)\n",
      "\u001b[1;31mKeyError\u001b[0m: 'section 3'"
     ]
    }
   ],
   "source": []
  },
  {
   "cell_type": "code",
   "execution_count": 3,
   "metadata": {},
   "outputs": [
    {
     "data": {
      "text/html": [
       "<div>\n",
       "<style scoped>\n",
       "    .dataframe tbody tr th:only-of-type {\n",
       "        vertical-align: middle;\n",
       "    }\n",
       "\n",
       "    .dataframe tbody tr th {\n",
       "        vertical-align: top;\n",
       "    }\n",
       "\n",
       "    .dataframe thead th {\n",
       "        text-align: right;\n",
       "    }\n",
       "</style>\n",
       "<table border=\"1\" class=\"dataframe\">\n",
       "  <thead>\n",
       "    <tr style=\"text-align: right;\">\n",
       "      <th></th>\n",
       "      <th>id</th>\n",
       "      <th>plate</th>\n",
       "      <th>date</th>\n",
       "      <th>price</th>\n",
       "    </tr>\n",
       "  </thead>\n",
       "  <tbody>\n",
       "    <tr>\n",
       "      <th>0</th>\n",
       "      <td>1</td>\n",
       "      <td>X059CP797</td>\n",
       "      <td>2024-12-26 00:00:00</td>\n",
       "      <td>65000</td>\n",
       "    </tr>\n",
       "    <tr>\n",
       "      <th>1</th>\n",
       "      <td>2</td>\n",
       "      <td>Y800MH790</td>\n",
       "      <td>2024-07-12 21:31:37</td>\n",
       "      <td>100000</td>\n",
       "    </tr>\n",
       "    <tr>\n",
       "      <th>2</th>\n",
       "      <td>3</td>\n",
       "      <td>A212TX77</td>\n",
       "      <td>2024-04-18 00:00:00</td>\n",
       "      <td>290000</td>\n",
       "    </tr>\n",
       "    <tr>\n",
       "      <th>3</th>\n",
       "      <td>4</td>\n",
       "      <td>P001AY199</td>\n",
       "      <td>2025-01-03 00:27:15</td>\n",
       "      <td>680000</td>\n",
       "    </tr>\n",
       "    <tr>\n",
       "      <th>4</th>\n",
       "      <td>5</td>\n",
       "      <td>P001AY199</td>\n",
       "      <td>2025-01-10 09:32:41</td>\n",
       "      <td>750000</td>\n",
       "    </tr>\n",
       "    <tr>\n",
       "      <th>...</th>\n",
       "      <td>...</td>\n",
       "      <td>...</td>\n",
       "      <td>...</td>\n",
       "      <td>...</td>\n",
       "    </tr>\n",
       "    <tr>\n",
       "      <th>51630</th>\n",
       "      <td>51631</td>\n",
       "      <td>X023PP797</td>\n",
       "      <td>2025-01-29 00:00:00</td>\n",
       "      <td>70000</td>\n",
       "    </tr>\n",
       "    <tr>\n",
       "      <th>51631</th>\n",
       "      <td>51632</td>\n",
       "      <td>M004KA161</td>\n",
       "      <td>2025-01-31 00:00:00</td>\n",
       "      <td>1600000</td>\n",
       "    </tr>\n",
       "    <tr>\n",
       "      <th>51632</th>\n",
       "      <td>51633</td>\n",
       "      <td>E888EB199</td>\n",
       "      <td>2025-02-06 00:00:00</td>\n",
       "      <td>850000</td>\n",
       "    </tr>\n",
       "    <tr>\n",
       "      <th>51633</th>\n",
       "      <td>51634</td>\n",
       "      <td>X023XK77</td>\n",
       "      <td>2024-04-24 11:30:07</td>\n",
       "      <td>150000</td>\n",
       "    </tr>\n",
       "    <tr>\n",
       "      <th>51634</th>\n",
       "      <td>51635</td>\n",
       "      <td>K450OC797</td>\n",
       "      <td>2023-10-06 00:00:00</td>\n",
       "      <td>25000</td>\n",
       "    </tr>\n",
       "  </tbody>\n",
       "</table>\n",
       "<p>51635 rows × 4 columns</p>\n",
       "</div>"
      ],
      "text/plain": [
       "          id      plate                 date    price\n",
       "0          1  X059CP797  2024-12-26 00:00:00    65000\n",
       "1          2  Y800MH790  2024-07-12 21:31:37   100000\n",
       "2          3   A212TX77  2024-04-18 00:00:00   290000\n",
       "3          4  P001AY199  2025-01-03 00:27:15   680000\n",
       "4          5  P001AY199  2025-01-10 09:32:41   750000\n",
       "...      ...        ...                  ...      ...\n",
       "51630  51631  X023PP797  2025-01-29 00:00:00    70000\n",
       "51631  51632  M004KA161  2025-01-31 00:00:00  1600000\n",
       "51632  51633  E888EB199  2025-02-06 00:00:00   850000\n",
       "51633  51634   X023XK77  2024-04-24 11:30:07   150000\n",
       "51634  51635  K450OC797  2023-10-06 00:00:00    25000\n",
       "\n",
       "[51635 rows x 4 columns]"
      ]
     },
     "execution_count": 3,
     "metadata": {},
     "output_type": "execute_result"
    }
   ],
   "source": [
    "tr "
   ]
  }
 ],
 "metadata": {
  "kernelspec": {
   "display_name": "Python 3",
   "language": "python",
   "name": "python3"
  },
  "language_info": {
   "codemirror_mode": {
    "name": "ipython",
    "version": 3
   },
   "file_extension": ".py",
   "mimetype": "text/x-python",
   "name": "python",
   "nbconvert_exporter": "python",
   "pygments_lexer": "ipython3",
   "version": "3.9.13"
  }
 },
 "nbformat": 4,
 "nbformat_minor": 2
}
